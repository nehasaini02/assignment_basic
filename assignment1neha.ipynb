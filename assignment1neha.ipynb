{
 "cells": [
  {
   "cell_type": "markdown",
   "id": "a37301c2-29c2-4fb2-9522-86305ab9f821",
   "metadata": {},
   "source": [
    "# <center>assignment</center>"
   ]
  },
  {
   "cell_type": "markdown",
   "id": "7f8527bf-0d3d-4ad4-acaa-eb29061a9f13",
   "metadata": {},
   "source": [
    "### 1. How do you concatenate two string in python?"
   ]
  },
  {
   "cell_type": "code",
   "execution_count": 7,
   "id": "6dfff62e-10cf-4958-a90a-c6b8c460130d",
   "metadata": {},
   "outputs": [
    {
     "name": "stdout",
     "output_type": "stream",
     "text": [
      "nehanishu\n"
     ]
    }
   ],
   "source": [
    "co1=\"neha\"\n",
    "co2=\"nishu\"\n",
    "result=(co1+co2)\n",
    "print(result)"
   ]
  },
  {
   "cell_type": "markdown",
   "id": "ccd67331-9d85-4186-9988-870bf945823f",
   "metadata": {},
   "source": [
    "### 2.What is the difference between the + operator and join() method for concatenating strinds?"
   ]
  },
  {
   "cell_type": "code",
   "execution_count": 23,
   "id": "0e5ac0bb-5904-4bff-9b80-842968d8eb0a",
   "metadata": {},
   "outputs": [
    {
     "name": "stdout",
     "output_type": "stream",
     "text": [
      "neha\"+\"dishant\n"
     ]
    }
   ],
   "source": [
    "r1=\"neha\"\n",
    "r2=\"dishant\"\n",
    "print(\"neha\"'\"+\"'\"dishant\")"
   ]
  },
  {
   "cell_type": "code",
   "execution_count": 14,
   "id": "b65ff6aa-4c6f-489f-8c34-aab5230e182f",
   "metadata": {},
   "outputs": [
    {
     "name": "stdout",
     "output_type": "stream",
     "text": [
      "neha, nishu\n"
     ]
    }
   ],
   "source": [
    "x1=[\"neha, nishu\"]\n",
    "result=\"\".join(x1)\n",
    "print(result)"
   ]
  },
  {
   "cell_type": "markdown",
   "id": "6bcac5b4-acf2-4743-ad5b-d007113b4799",
   "metadata": {},
   "source": [
    "### 3. How do you access individual characters strings?"
   ]
  },
  {
   "cell_type": "code",
   "execution_count": 32,
   "id": "9826379c-1901-4961-81a1-010e5b485714",
   "metadata": {},
   "outputs": [
    {
     "name": "stdout",
     "output_type": "stream",
     "text": [
      "a\n",
      "h\n"
     ]
    }
   ],
   "source": [
    "string=\"neha\"\n",
    "print(string[3])\n",
    "print(string[2])"
   ]
  },
  {
   "cell_type": "markdown",
   "id": "3884582a-abb0-4980-848c-fc17fcec6611",
   "metadata": {},
   "source": [
    "### 4.What method is used to find the length of a string in python?"
   ]
  },
  {
   "cell_type": "code",
   "execution_count": 35,
   "id": "11cc3b38-ba96-4812-b7e4-bcdb5642c81e",
   "metadata": {},
   "outputs": [
    {
     "data": {
      "text/plain": [
       "24"
      ]
     },
     "execution_count": 35,
     "metadata": {},
     "output_type": "execute_result"
    }
   ],
   "source": [
    "string=\"my brother name is vikas\"\n",
    "len(string)"
   ]
  },
  {
   "cell_type": "markdown",
   "id": "f9201fbd-1ac7-44fb-bae3-d5861eb88ab9",
   "metadata": {},
   "source": [
    "### 5.How can convert a string to uppercase in python?"
   ]
  },
  {
   "cell_type": "code",
   "execution_count": 44,
   "id": "387f3d88-677f-450f-81a8-84e8580383e9",
   "metadata": {},
   "outputs": [
    {
     "name": "stdout",
     "output_type": "stream",
     "text": [
      "MY NAME IS MANISHA\n"
     ]
    }
   ],
   "source": [
    "string=\"my name is manisha\"\n",
    "print(string.upper())"
   ]
  },
  {
   "cell_type": "code",
   "execution_count": 50,
   "id": "77c3cdf6-541d-4885-9b2f-788d48120b42",
   "metadata": {},
   "outputs": [
    {
     "name": "stdout",
     "output_type": "stream",
     "text": [
      "My name is manisha\n"
     ]
    }
   ],
   "source": [
    "print(string.capitalize())"
   ]
  },
  {
   "cell_type": "markdown",
   "id": "299bba5a-3541-40ba-a55f-b913416024ef",
   "metadata": {},
   "source": [
    "### 6.How can covert a string to lowercase in python? "
   ]
  },
  {
   "cell_type": "code",
   "execution_count": 57,
   "id": "47558546-406a-437a-8ce2-bf1d56d416b3",
   "metadata": {},
   "outputs": [
    {
     "name": "stdout",
     "output_type": "stream",
     "text": [
      "my name is mukesh\n"
     ]
    }
   ],
   "source": [
    "string=\"MY NAME IS MUKESH\"\n",
    "print(string.lower())"
   ]
  },
  {
   "cell_type": "markdown",
   "id": "8a3d2fc1-4bb5-43d1-a13a-51848b92de34",
   "metadata": {},
   "source": [
    "### 7.What method is used to replace substring within in python?"
   ]
  },
  {
   "cell_type": "code",
   "execution_count": 36,
   "id": "e490a90a-d90e-4fe9-952b-4d34a3164633",
   "metadata": {},
   "outputs": [
    {
     "name": "stdout",
     "output_type": "stream",
     "text": [
      "nishu saini\n"
     ]
    }
   ],
   "source": [
    "string=\"neha saini\"\n",
    "new_string= string.replace(\"neha\",\"nishu\")\n",
    "print(new_string)"
   ]
  },
  {
   "cell_type": "markdown",
   "id": "98b64857-4597-45e9-afad-006f820f2842",
   "metadata": {},
   "source": [
    "### 8.How can you split a string into a list of a substring based on a delimitar?"
   ]
  },
  {
   "cell_type": "code",
   "execution_count": 39,
   "id": "8ea4396b-29d4-49a2-b668-56dde68d3026",
   "metadata": {},
   "outputs": [
    {
     "data": {
      "text/plain": [
       "['neha', 'saini']"
      ]
     },
     "execution_count": 39,
     "metadata": {},
     "output_type": "execute_result"
    }
   ],
   "source": [
    "string=\"neha saini\"\n",
    "string.split()"
   ]
  },
  {
   "cell_type": "markdown",
   "id": "0c39c773-25e5-483f-b7d3-1a7ef6112ca2",
   "metadata": {},
   "source": [
    "### 9.How do you check if a string starts with a particular substring?"
   ]
  },
  {
   "cell_type": "code",
   "execution_count": 50,
   "id": "8acae4ed-dce0-456f-b7e5-4fbccf892358",
   "metadata": {},
   "outputs": [
    {
     "data": {
      "text/plain": [
       "True"
      ]
     },
     "execution_count": 50,
     "metadata": {},
     "output_type": "execute_result"
    }
   ],
   "source": [
    "name=\"my name is satish saini\"\n",
    "name.startswith(\"my\")\n"
   ]
  },
  {
   "cell_type": "code",
   "execution_count": 52,
   "id": "fd2c3b18-b842-4427-9d3a-ab63d87c348b",
   "metadata": {},
   "outputs": [
    {
     "data": {
      "text/plain": [
       "False"
      ]
     },
     "execution_count": 52,
     "metadata": {},
     "output_type": "execute_result"
    }
   ],
   "source": [
    "name=\"my name is satish saini\"\n",
    "name.startswith(\"I\")\n"
   ]
  },
  {
   "cell_type": "markdown",
   "id": "ced15f00-1fff-4dd4-b811-72eb2d1a48c0",
   "metadata": {},
   "source": [
    "### 10.How do you check if a string ends with a particular substring?"
   ]
  },
  {
   "cell_type": "code",
   "execution_count": 57,
   "id": "62a836a5-9c97-461f-b537-46e64b2dbaf8",
   "metadata": {},
   "outputs": [
    {
     "data": {
      "text/plain": [
       "True"
      ]
     },
     "execution_count": 57,
     "metadata": {},
     "output_type": "execute_result"
    }
   ],
   "source": [
    "name=\"my name is sunny saini\"\n",
    "name.endswith(\"saini\")\n"
   ]
  },
  {
   "cell_type": "code",
   "execution_count": 59,
   "id": "82611636-188c-48ae-870f-1ef2f44491f1",
   "metadata": {},
   "outputs": [
    {
     "data": {
      "text/plain": [
       "False"
      ]
     },
     "execution_count": 59,
     "metadata": {},
     "output_type": "execute_result"
    }
   ],
   "source": [
    "name=\"my name is sunny saini\"\n",
    "name.endswith(\"sunny\")\n"
   ]
  },
  {
   "cell_type": "markdown",
   "id": "712029bb-08ee-43fc-a92a-a7fde58e962e",
   "metadata": {},
   "source": [
    "### 11.How can remove leading and trailing whitespace from a string?"
   ]
  },
  {
   "cell_type": "code",
   "execution_count": 68,
   "id": "fe545cbc-c768-4d71-8fa2-76380d79ebda",
   "metadata": {},
   "outputs": [
    {
     "name": "stdout",
     "output_type": "stream",
     "text": [
      " india\n"
     ]
    }
   ],
   "source": [
    "string=\"hello india\"\n",
    "new_string=string.lstrip(\"hello\")\n",
    "print(new_string)"
   ]
  },
  {
   "cell_type": "code",
   "execution_count": 70,
   "id": "cc289cea-b8b2-454d-87dc-34cea97c7ef1",
   "metadata": {},
   "outputs": [
    {
     "name": "stdout",
     "output_type": "stream",
     "text": [
      "hello \n"
     ]
    }
   ],
   "source": [
    "string=\"hello india\"\n",
    "new_string=string.rstrip(\"india\")\n",
    "print(new_string)"
   ]
  },
  {
   "cell_type": "markdown",
   "id": "4c8fddda-2de3-4696-b859-de2a5ee0bd79",
   "metadata": {},
   "source": [
    "### 12.What method is used to find the index of the first occurrence of a substring within a string?"
   ]
  },
  {
   "cell_type": "code",
   "execution_count": 77,
   "id": "05394a47-c91c-4f9a-a9d2-e032f8db2397",
   "metadata": {},
   "outputs": [
    {
     "name": "stdout",
     "output_type": "stream",
     "text": [
      "19\n"
     ]
    }
   ],
   "source": [
    "string=\"i am learning is java\"\n",
    "print(string.index(\"v\"))"
   ]
  },
  {
   "cell_type": "markdown",
   "id": "cca32bbe-6da6-405f-9208-2960d44c0b4e",
   "metadata": {},
   "source": [
    "### 13.How can you count the number of occurrence of substring with a string?"
   ]
  },
  {
   "cell_type": "code",
   "execution_count": 86,
   "id": "91f64e2b-7b8c-4b23-bee3-c751f50f51b1",
   "metadata": {},
   "outputs": [
    {
     "name": "stdout",
     "output_type": "stream",
     "text": [
      "2\n"
     ]
    }
   ],
   "source": [
    "string=\"sonipat city\"\n",
    "print(string.count(\"t\"))"
   ]
  },
  {
   "cell_type": "markdown",
   "id": "877b6fef-706e-417f-a856-06832231463a",
   "metadata": {},
   "source": [
    "### 14.How do you check if a string contains only alphabetic characters?"
   ]
  },
  {
   "cell_type": "code",
   "execution_count": 103,
   "id": "32abd65e-7322-4feb-9754-083ece03e479",
   "metadata": {},
   "outputs": [
    {
     "name": "stdout",
     "output_type": "stream",
     "text": [
      "True\n"
     ]
    }
   ],
   "source": [
    "string=\"neha\"\n",
    "string2=\"234567\"\n",
    "print(string.isalpha())"
   ]
  },
  {
   "cell_type": "code",
   "execution_count": 105,
   "id": "30921fd5-67e2-4755-ac23-59dfc20a2294",
   "metadata": {},
   "outputs": [
    {
     "name": "stdout",
     "output_type": "stream",
     "text": [
      "False\n"
     ]
    }
   ],
   "source": [
    "string=\"neha\"\n",
    "string2=\"234567\"\n",
    "print(string2.isalpha())"
   ]
  },
  {
   "cell_type": "markdown",
   "id": "1a08db5c-181a-46f7-82b9-347969aec773",
   "metadata": {},
   "source": [
    "### 15.How do you check if a string contains only numaric characters?"
   ]
  },
  {
   "cell_type": "code",
   "execution_count": 108,
   "id": "90419024-8efa-4097-9fe9-beec57d5bdc2",
   "metadata": {},
   "outputs": [
    {
     "name": "stdout",
     "output_type": "stream",
     "text": [
      "True\n"
     ]
    }
   ],
   "source": [
    "string=\"2345678\"\n",
    "string2=\"nishu\"\n",
    "print(string.isnumeric())"
   ]
  },
  {
   "cell_type": "code",
   "execution_count": 110,
   "id": "9be9691f-bf8e-4ea4-8f6e-3b7b2f0630e2",
   "metadata": {},
   "outputs": [
    {
     "name": "stdout",
     "output_type": "stream",
     "text": [
      "False\n"
     ]
    }
   ],
   "source": [
    "string=\"2345678\"\n",
    "string2=\"nishu\"\n",
    "print(string2.isnumeric())"
   ]
  },
  {
   "cell_type": "markdown",
   "id": "a4d673ae-f0d7-4394-874a-e683dff8eb2d",
   "metadata": {},
   "source": [
    "### 16.How can you check if a string is a palindrome?"
   ]
  },
  {
   "cell_type": "code",
   "execution_count": null,
   "id": "c122bd24-39ab-431b-a8a6-d2283893db0e",
   "metadata": {},
   "outputs": [],
   "source": [
    "name=input(\"enter 9\")"
   ]
  },
  {
   "cell_type": "markdown",
   "id": "11e54767-ab81-4750-809f-5917f219f46b",
   "metadata": {},
   "source": [
    "### 17.How can you revese a string in python? "
   ]
  },
  {
   "cell_type": "code",
   "execution_count": 35,
   "id": "f44af1f7-4fcc-488e-be21-4ba6e07a68cf",
   "metadata": {},
   "outputs": [
    {
     "name": "stdout",
     "output_type": "stream",
     "text": [
      "['sonipat', 'rohtak', 'panipat']\n"
     ]
    }
   ],
   "source": [
    "string=\"sonipat,rohtak,panipat\"\n",
    "string.\n",
    "print(result)\n",
    "\n"
   ]
  },
  {
   "cell_type": "markdown",
   "id": "c988d3e9-a419-448a-b3c4-caf5873bcc83",
   "metadata": {},
   "source": [
    "### 18.How do you format a string in python?   "
   ]
  },
  {
   "cell_type": "code",
   "execution_count": 117,
   "id": "6c818ff4-77c8-464c-9c74-96b65c4fa030",
   "metadata": {},
   "outputs": [
    {
     "data": {
      "text/plain": [
       "'my name is neha and my age is 22'"
      ]
     },
     "execution_count": 117,
     "metadata": {},
     "output_type": "execute_result"
    }
   ],
   "source": [
    "name=\"neha\"\n",
    "age=22\n",
    "\"my name is{} and my age is {}\".format(name,age)"
   ]
  },
  {
   "cell_type": "code",
   "execution_count": 123,
   "id": "83de0736-f2a7-4e48-ab92-c01ab0592e37",
   "metadata": {},
   "outputs": [
    {
     "data": {
      "text/plain": [
       "'my name is neha and my age is 22'"
      ]
     },
     "execution_count": 123,
     "metadata": {},
     "output_type": "execute_result"
    }
   ],
   "source": [
    "f\"my name is {name} and my age is {22}\""
   ]
  },
  {
   "cell_type": "code",
   "execution_count": 129,
   "id": "03e3781a-6fe8-497c-a2d9-f3c5ec2d48a3",
   "metadata": {},
   "outputs": [
    {
     "data": {
      "text/plain": [
       "'my name is neha and my age is 22'"
      ]
     },
     "execution_count": 129,
     "metadata": {},
     "output_type": "execute_result"
    }
   ],
   "source": [
    "\"my name is %s and my age is %s\"%(name,age)"
   ]
  },
  {
   "cell_type": "markdown",
   "id": "cabafa9d-f072-4764-8020-07416f25d8a4",
   "metadata": {},
   "source": [
    "### 19.How do you access a substring of a string using slicing? "
   ]
  },
  {
   "cell_type": "code",
   "execution_count": 136,
   "id": "725b87d9-5eaf-4454-a501-9decc179d72a",
   "metadata": {},
   "outputs": [
    {
     "data": {
      "text/plain": [
       "'i am learnin'"
      ]
     },
     "execution_count": 136,
     "metadata": {},
     "output_type": "execute_result"
    }
   ],
   "source": [
    "r3=\"i am learning in python\"\n",
    "r3[0:12:1]"
   ]
  },
  {
   "cell_type": "code",
   "execution_count": 138,
   "id": "b925ffbe-f270-49e3-a021-d8f8e2912e4a",
   "metadata": {},
   "outputs": [
    {
     "data": {
      "text/plain": [
       "'g'"
      ]
     },
     "execution_count": 138,
     "metadata": {},
     "output_type": "execute_result"
    }
   ],
   "source": [
    "r3[-11:13:1]"
   ]
  },
  {
   "cell_type": "markdown",
   "id": "d75d7488-5313-42b2-abce-0acf81187035",
   "metadata": {},
   "source": [
    "### 20.How can you remove specific character from a string in python?"
   ]
  },
  {
   "cell_type": "code",
   "execution_count": 145,
   "id": "9a7a2371-fb33-40f2-803a-8493ecd00736",
   "metadata": {},
   "outputs": [
    {
     "data": {
      "text/plain": [
       "'eha'"
      ]
     },
     "execution_count": 145,
     "metadata": {},
     "output_type": "execute_result"
    }
   ],
   "source": [
    "string=\"neha\"\n",
    "string2=\"nishu\"\n",
    "string.removeprefix(\"n\")"
   ]
  },
  {
   "cell_type": "code",
   "execution_count": null,
   "id": "d4a2e6d9-8f77-4731-a9aa-f48e909a3cd9",
   "metadata": {},
   "outputs": [],
   "source": []
  }
 ],
 "metadata": {
  "kernelspec": {
   "display_name": "Python 3 (ipykernel)",
   "language": "python",
   "name": "python3"
  },
  "language_info": {
   "codemirror_mode": {
    "name": "ipython",
    "version": 3
   },
   "file_extension": ".py",
   "mimetype": "text/x-python",
   "name": "python",
   "nbconvert_exporter": "python",
   "pygments_lexer": "ipython3",
   "version": "3.12.4"
  }
 },
 "nbformat": 4,
 "nbformat_minor": 5
}
